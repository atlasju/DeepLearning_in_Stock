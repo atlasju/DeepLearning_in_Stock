{
 "cells": [
  {
   "cell_type": "code",
   "execution_count": null,
   "metadata": {},
   "outputs": [
    {
     "name": "stderr",
     "output_type": "stream",
     "text": [
      "Using TensorFlow backend.\n",
      "/usr/lib/python3.6/importlib/_bootstrap.py:219: RuntimeWarning: compiletime version 3.5 of module 'tensorflow.python.framework.fast_tensor_util' does not match runtime version 3.6\n",
      "  return f(*args, **kwds)\n"
     ]
    }
   ],
   "source": [
    "from keras.layers import Input,LSTM,Dense,Concatenate\n",
    "from keras.models import Model\n",
    "import keras\n",
    "from layer_utils import AttentionLSTM\n",
    "from keras.callbacks import ModelCheckpoint, ReduceLROnPlateau"
   ]
  },
  {
   "cell_type": "code",
   "execution_count": null,
   "metadata": {},
   "outputs": [],
   "source": [
    "timeSteps=30\n",
    "interNum=10\n",
    "lstm_node=100\n",
    "lstm_layers=2\n",
    "input_dim=2\n",
    "dense_size=100"
   ]
  },
  {
   "cell_type": "code",
   "execution_count": null,
   "metadata": {},
   "outputs": [],
   "source": [
    "open_input=Input(shape=(timeSteps,input_dim),name='open_input')\n",
    "close_input=Input(shape=(timeSteps,input_dim),name='close_input')\n",
    "high_input=Input(shape=(timeSteps,input_dim),name='high_input')\n",
    "low_input=Input(shape=(timeSteps,input_dim),name='low_input')\n",
    "volume_input=Input(shape=(timeSteps,input_dim),name='volume_input')\n",
    "p_change_input=Input(shape=(timeSteps,input_dim),name='p_change_input')"
   ]
  },
  {
   "cell_type": "code",
   "execution_count": null,
   "metadata": {},
   "outputs": [],
   "source": [
    "open_inter=Dense(interNum,activation='tanh')(open_input)\n",
    "close_inter=Dense(interNum,activation='tanh')(close_input)\n",
    "high_inter=Dense(interNum,activation='tanh')(high_input)\n",
    "low_inter=Dense(interNum,activation='tanh')(low_input)\n",
    "volume_inter=Dense(interNum,activation='tanh')(volume_input)\n",
    "p_change_inter=Dense(interNum,activation='tanh')(p_change_input)"
   ]
  },
  {
   "cell_type": "code",
   "execution_count": null,
   "metadata": {},
   "outputs": [],
   "source": [
    "combine=Concatenate()([open_inter,close_inter,high_inter,low_inter,volume_inter,p_change_inter])"
   ]
  },
  {
   "cell_type": "code",
   "execution_count": null,
   "metadata": {},
   "outputs": [],
   "source": [
    "lstm_out=AttentionLSTM(lstm_node)(combine)"
   ]
  },
  {
   "cell_type": "code",
   "execution_count": null,
   "metadata": {},
   "outputs": [],
   "source": [
    "x=Dense(dense_size,activation='tanh')(lstm_out)\n",
    "# x=Dense(dense_size,activation='tanh')(x)\n",
    "out=Dense(1,name='open_output')(x)"
   ]
  },
  {
   "cell_type": "code",
   "execution_count": null,
   "metadata": {},
   "outputs": [],
   "source": [
    "model=Model(inputs=[open_input,close_input,high_input,low_input,volume_input,p_change_input],outputs=out)"
   ]
  },
  {
   "cell_type": "code",
   "execution_count": null,
   "metadata": {
    "scrolled": true
   },
   "outputs": [],
   "source": [
    "model.summary()"
   ]
  },
  {
   "cell_type": "code",
   "execution_count": null,
   "metadata": {},
   "outputs": [],
   "source": [
    "model_checkpoint = ModelCheckpoint(\"./weights/weights.h5\", verbose=1,\n",
    "                                       monitor='val_loss', save_best_only=True, save_weights_only=True)\n",
    "reduce_lr = ReduceLROnPlateau(monitor='val_loss', patience=10, mode='max',\n",
    "                                  factor=0.5, cooldown=0, min_lr=1e-5, verbose=2)\n",
    "callback_list = [model_checkpoint, reduce_lr]"
   ]
  },
  {
   "cell_type": "code",
   "execution_count": null,
   "metadata": {},
   "outputs": [],
   "source": [
    "lr=1e-3\n",
    "optm=keras.optimizers.Adam(lr=lr)\n",
    "# model.compile(loss='mse',optimizer=optm,metrics=['mae'])\n",
    "model.compile(loss='mse',optimizer=optm)"
   ]
  },
  {
   "cell_type": "markdown",
   "metadata": {},
   "source": [
    "---"
   ]
  },
  {
   "cell_type": "code",
   "execution_count": null,
   "metadata": {},
   "outputs": [],
   "source": [
    "import pandas as pd"
   ]
  },
  {
   "cell_type": "code",
   "execution_count": null,
   "metadata": {},
   "outputs": [],
   "source": [
    "data=pd.read_csv('store.csv')"
   ]
  },
  {
   "cell_type": "code",
   "execution_count": null,
   "metadata": {},
   "outputs": [],
   "source": [
    "K=data[['open','close','high','low','volume','p_change']]"
   ]
  },
  {
   "cell_type": "code",
   "execution_count": null,
   "metadata": {},
   "outputs": [],
   "source": [
    "K_min=K.min()\n",
    "K_max=K.max()"
   ]
  },
  {
   "cell_type": "code",
   "execution_count": null,
   "metadata": {},
   "outputs": [],
   "source": [
    "pK=(K-K_min)/(K_max-K_min)"
   ]
  },
  {
   "cell_type": "code",
   "execution_count": null,
   "metadata": {
    "scrolled": true
   },
   "outputs": [],
   "source": [
    "pK"
   ]
  },
  {
   "cell_type": "code",
   "execution_count": null,
   "metadata": {},
   "outputs": [],
   "source": [
    "val_size=100"
   ]
  },
  {
   "cell_type": "code",
   "execution_count": null,
   "metadata": {},
   "outputs": [],
   "source": [
    "train_K=pK[:len(pK)-val_size]\n",
    "val_K=pK[len(pK)-val_size:]"
   ]
  },
  {
   "cell_type": "code",
   "execution_count": null,
   "metadata": {
    "scrolled": true
   },
   "outputs": [],
   "source": [
    "val_K"
   ]
  },
  {
   "cell_type": "markdown",
   "metadata": {},
   "source": [
    "---"
   ]
  },
  {
   "cell_type": "code",
   "execution_count": null,
   "metadata": {},
   "outputs": [],
   "source": [
    "import pywt\n",
    "import numpy as np"
   ]
  },
  {
   "cell_type": "code",
   "execution_count": null,
   "metadata": {},
   "outputs": [],
   "source": [
    "Wfn = pywt.Wavelet('dmey')"
   ]
  },
  {
   "cell_type": "code",
   "execution_count": null,
   "metadata": {},
   "outputs": [],
   "source": [
    "class StoreDataSet(keras.utils.Sequence):\n",
    "    def __init__(self,sK,prop,S_length,prepro):\n",
    "        self.K=sK\n",
    "        self.S_length=S_length\n",
    "        self.prop=prop\n",
    "        self.sp=sK[prop].values\n",
    "        self.prepro=prepro\n",
    "    def __len__(self):\n",
    "        return len(self.K)-self.S_length-1\n",
    "    def __getitem__(self,idx):\n",
    "        if self.prepro is True:\n",
    "            st=self.sp[idx:idx+self.S_length]\n",
    "            cof=pywt.swt(st, Wfn,level=1)\n",
    "            ca=np.expand_dims(cof[0][0], axis=-1)\n",
    "            cd=np.expand_dims(cof[0][1],axis=-1)\n",
    "            r=np.concatenate((ca,cd), axis=-1)\n",
    "        else:\n",
    "            r=self.sp[idx+self.S_length]\n",
    "        return r"
   ]
  },
  {
   "cell_type": "code",
   "execution_count": null,
   "metadata": {},
   "outputs": [],
   "source": [
    "props=['open','close','high','low','volume','p_change']\n",
    "def get_dateSet(aK,prepro):\n",
    "    trainSet={}\n",
    "    for prop in props:\n",
    "        t=StoreDataSet(aK,prop,timeSteps,prepro)\n",
    "        s=None\n",
    "        for i in range(len(t)):\n",
    "            if i==0:\n",
    "                s=np.expand_dims(t[i], axis=0)\n",
    "            else:\n",
    "                s=np.concatenate((s,np.expand_dims(t[i],axis=0)))\n",
    "        if prepro is True:\n",
    "            prop=prop+'_input'\n",
    "        else:\n",
    "            prop=prop+'_output'\n",
    "        trainSet[prop]=s\n",
    "    return trainSet"
   ]
  },
  {
   "cell_type": "code",
   "execution_count": null,
   "metadata": {},
   "outputs": [],
   "source": [
    "trainInSet=get_dateSet(train_K,True)\n",
    "trainOutSet=get_dateSet(train_K,False)\n",
    "valInSet=get_dateSet(val_K,True)\n",
    "valOutSet=get_dateSet(val_K,False)"
   ]
  },
  {
   "cell_type": "code",
   "execution_count": null,
   "metadata": {
    "scrolled": true
   },
   "outputs": [],
   "source": [
    "hist=model.fit(trainInSet,trainOutSet,epochs=1000,batch_size=10,validation_data=(\n",
    "    valInSet,valOutSet),callbacks=callback_list)"
   ]
  },
  {
   "cell_type": "code",
   "execution_count": null,
   "metadata": {},
   "outputs": [],
   "source": [
    "%matplotlib inline\n",
    "from matplotlib import pyplot as plt"
   ]
  },
  {
   "cell_type": "code",
   "execution_count": null,
   "metadata": {},
   "outputs": [],
   "source": [
    "plt.title('Train')\n",
    "plt.plot(trainOutSet['open_output'])\n",
    "train_predict=model.predict(trainInSet)\n",
    "plt.plot(train_predict)\n",
    "plt.legend(['original','prediction'])"
   ]
  },
  {
   "cell_type": "code",
   "execution_count": null,
   "metadata": {},
   "outputs": [],
   "source": [
    "plt.title('Val')\n",
    "plt.plot(valOutSet['open_output'])\n",
    "val_predict=model.predict(valInSet)\n",
    "plt.plot(val_predict)\n",
    "plt.legend(['original','prediction'])"
   ]
  },
  {
   "cell_type": "code",
   "execution_count": null,
   "metadata": {},
   "outputs": [],
   "source": [
    "plt.title('Val-adj')\n",
    "plt.plot(valOutSet['open_output'][:-1])\n",
    "predict=model.predict(valInSet)[1:]\n",
    "plt.plot(predict)\n",
    "plt.legend(['original','prediction'])"
   ]
  },
  {
   "cell_type": "markdown",
   "metadata": {},
   "source": [
    "---"
   ]
  },
  {
   "cell_type": "code",
   "execution_count": null,
   "metadata": {},
   "outputs": [],
   "source": [
    "plt.title('Train')\n",
    "plt.plot(trainOutSet['open_output'][:50])\n",
    "train_predict=model.predict(trainInSet)[:50]\n",
    "plt.plot(train_predict)\n",
    "plt.legend(['original','prediction'])"
   ]
  },
  {
   "cell_type": "code",
   "execution_count": null,
   "metadata": {},
   "outputs": [],
   "source": [
    "trainOutSet['open_output'].shape,model.predict(trainInSet).shape"
   ]
  },
  {
   "cell_type": "code",
   "execution_count": null,
   "metadata": {},
   "outputs": [],
   "source": [
    "predict=model.predict(trainInSet).reshape((-1))"
   ]
  },
  {
   "cell_type": "code",
   "execution_count": null,
   "metadata": {},
   "outputs": [],
   "source": [
    "(trainOutSet['open_output']-predict).shape"
   ]
  }
 ],
 "metadata": {
  "kernelspec": {
   "display_name": "Python 3",
   "language": "python",
   "name": "python3"
  },
  "language_info": {
   "codemirror_mode": {
    "name": "ipython",
    "version": 3
   },
   "file_extension": ".py",
   "mimetype": "text/x-python",
   "name": "python",
   "nbconvert_exporter": "python",
   "pygments_lexer": "ipython3",
   "version": "3.6.3"
  }
 },
 "nbformat": 4,
 "nbformat_minor": 2
}
